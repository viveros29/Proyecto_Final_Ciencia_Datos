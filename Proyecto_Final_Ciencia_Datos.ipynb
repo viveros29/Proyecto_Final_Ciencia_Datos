{
 "cells": [
  {
   "cell_type": "markdown",
   "id": "4c639f8e",
   "metadata": {},
   "source": [
    "# Proyecto Final de Ciencia de Datos"
   ]
  },
  {
   "cell_type": "markdown",
   "id": "2d4f99b3",
   "metadata": {},
   "source": [
    "## Introducción\n",
    "Este cuaderno contiene ejemplos prácticos y explicaciones sobre diversas herramientas y conceptos utilizados en la Ciencia de Datos. A lo largo del cuaderno se abordarán lenguajes de programación, bibliotecas populares, herramientas y operaciones aritméticas básicas."
   ]
  },
  {
   "cell_type": "markdown",
   "id": "9437f12b",
   "metadata": {},
   "source": [
    "## Lenguajes de Ciencia de Datos\n",
    "Algunos de los lenguajes más utilizados en Ciencia de Datos son:\n",
    "- Python\n",
    "- R\n",
    "- SQL\n",
    "- Julia\n",
    "- Scala"
   ]
  },
  {
   "cell_type": "markdown",
   "id": "c23dca7b",
   "metadata": {},
   "source": [
    "## Bibliotecas de Ciencia de Datos\n",
    "Las bibliotecas más populares en el ámbito de la Ciencia de Datos son:\n",
    "- Pandas: Manipulación y análisis de datos\n",
    "- NumPy: Operaciones numéricas y manejo de matrices\n",
    "- Matplotlib: Visualización de datos\n",
    "- Seaborn: Gráficos estadísticos\n",
    "- Scikit-learn: Algoritmos de aprendizaje automático\n",
    "- TensorFlow: Redes neuronales y aprendizaje profundo\n",
    "- PyTorch: Aprendizaje profundo"
   ]
  },
  {
   "cell_type": "markdown",
   "id": "db46d862",
   "metadata": {},
   "source": [
    "## Herramientas de Ciencia de Datos\n",
    "| Herramienta        | Descripción                              |\n",
    "|-------------------|------------------------------------------|\n",
    "| Jupyter Notebook   | Entorno interactivo para análisis de datos|\n",
    "| RStudio            | IDE para programación en R                |\n",
    "| Apache Spark       | Procesamiento distribuido de big data     |\n",
    "| TensorFlow         | Redes neuronales y aprendizaje profundo   |\n",
    "| Tableau            | Visualización de datos empresarial        |"
   ]
  },
  {
   "cell_type": "markdown",
   "id": "0d87ae22",
   "metadata": {},
   "source": [
    "## Ejemplos de Expresiones Aritméticas\n",
    "Las expresiones aritméticas permiten realizar operaciones matemáticas básicas. Por ejemplo:\n",
    "- Suma: `3 + 5`\n",
    "- Resta: `10 - 4`\n",
    "- Multiplicación: `6 * 7`\n",
    "- División: `8 / 2`"
   ]
  },
  {
   "cell_type": "code",
   "execution_count": null,
   "id": "26e0e392",
   "metadata": {},
   "outputs": [],
   "source": [
    "# Ejercicio 8: Multiplicación y Suma\n",
    "a = 5\n",
    "b = 10\n",
    "resultado_suma = a + b\n",
    "resultado_multiplicacion = a * b\n",
    "print(f'Suma: {resultado_suma}, Multiplicación: {resultado_multiplicacion}')"
   ]
  },
  {
   "cell_type": "code",
   "execution_count": null,
   "id": "35fcc904",
   "metadata": {},
   "outputs": [],
   "source": [
    "# Ejercicio 9: Conversión de Minutos a Horas\n",
    "minutos = 150\n",
    "horas = minutos / 60\n",
    "print(f'{minutos} minutos equivalen a {horas} horas')"
   ]
  },
  {
   "cell_type": "markdown",
   "id": "870f718e",
   "metadata": {},
   "source": [
    "## Objetivos del Proyecto\n",
    "1. Demostrar conocimientos en Ciencia de Datos.\n",
    "2. Utilizar herramientas y bibliotecas comunes.\n",
    "3. Realizar operaciones aritméticas básicas.\n",
    "4. Crear y compartir el cuaderno a través de GitHub."
   ]
  },
  {
   "cell_type": "markdown",
   "id": "4434e858",
   "metadata": {},
   "source": [
    "## Autor\n",
    "**Nombre:** Osvaldo\n",
    "**Curso:** Ingeniería en Información y Control de Gestión"
   ]
  }
 ],
 "metadata": {},
 "nbformat": 4,
 "nbformat_minor": 5
}
